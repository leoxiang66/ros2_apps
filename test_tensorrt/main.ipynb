{
 "cells": [
  {
   "cell_type": "code",
   "execution_count": 2,
   "metadata": {},
   "outputs": [],
   "source": [
    "# Ultralytics YOLO 🚀, AGPL-3.0 license\n",
    "\n",
    "import argparse\n",
    "\n",
    "import cv2.dnn\n",
    "import numpy as np\n",
    "\n",
    "from ultralytics.utils import ASSETS, yaml_load\n",
    "from ultralytics.utils.checks import check_yaml\n",
    "\n",
    "CLASSES = yaml_load(check_yaml(\"coco8.yaml\"))[\"names\"]\n",
    "colors = np.random.uniform(0, 255, size=(len(CLASSES), 3))\n"
   ]
  },
  {
   "cell_type": "code",
   "execution_count": 3,
   "metadata": {},
   "outputs": [],
   "source": [
    "\n",
    "def draw_bounding_box(img, class_id, confidence, x, y, x_plus_w, y_plus_h):\n",
    "    \"\"\"\n",
    "    Draws bounding boxes on the input image based on the provided arguments.\n",
    "\n",
    "    Args:\n",
    "        img (numpy.ndarray): The input image to draw the bounding box on.\n",
    "        class_id (int): Class ID of the detected object.\n",
    "        confidence (float): Confidence score of the detected object.\n",
    "        x (int): X-coordinate of the top-left corner of the bounding box.\n",
    "        y (int): Y-coordinate of the top-left corner of the bounding box.\n",
    "        x_plus_w (int): X-coordinate of the bottom-right corner of the bounding box.\n",
    "        y_plus_h (int): Y-coordinate of the bottom-right corner of the bounding box.\n",
    "    \"\"\"\n",
    "    label = f\"{CLASSES[class_id]} ({confidence:.2f})\"\n",
    "    color = colors[class_id]\n",
    "    cv2.rectangle(img, (x, y), (x_plus_w, y_plus_h), color, 2)\n",
    "    cv2.putText(img, label, (x - 10, y - 10), cv2.FONT_HERSHEY_SIMPLEX, 0.5, color, 2)\n",
    "\n"
   ]
  },
  {
   "cell_type": "code",
   "execution_count": 4,
   "metadata": {},
   "outputs": [
    {
     "name": "stdout",
     "output_type": "stream",
     "text": [
      "original_image.shape: (1080, 810, 3)\n"
     ]
    }
   ],
   "source": [
    "\n",
    "\n",
    "\"\"\"\n",
    "Main function to load ONNX model, perform inference, draw bounding boxes, and display the output image.\n",
    "\n",
    "Args:\n",
    "    onnx_model (str): Path to the ONNX model.\n",
    "    input_image (str): Path to the input image.\n",
    "\n",
    "Returns:\n",
    "    list: List of dictionaries containing detection information such as class_id, class_name, confidence, etc.\n",
    "\"\"\"\n",
    "\n",
    "onnx_model = '/home/xiang-tao/git/runs/detect/train/weights/best.onnx'\n",
    "input_image = '/home/xiang-tao/git/bus.jpg'\n",
    "\n",
    "# Load the ONNX model\n",
    "model: cv2.dnn.Net = cv2.dnn.readNetFromONNX(onnx_model)\n",
    "\n",
    "# Read the input image\n",
    "original_image: np.ndarray = cv2.imread(input_image)\n",
    "[height, width, _] = original_image.shape\n",
    "\n",
    "print(f'original_image.shape: {original_image.shape}')\n",
    "\n"
   ]
  },
  {
   "cell_type": "code",
   "execution_count": 7,
   "metadata": {},
   "outputs": [
    {
     "name": "stdout",
     "output_type": "stream",
     "text": [
      "outputs: [[[     3.4416      20.009      28.422 ...      562.86      564.78      588.44]\n",
      "  [     7.1443      4.2471      3.5682 ...       595.4      592.19      591.94]\n",
      "  [      7.122      40.066      56.654 ...      158.04       157.5      113.82]\n",
      "  ...\n",
      "  [ 2.2683e-07  1.0893e-07  8.6857e-08 ...  1.0468e-06  7.9207e-07  1.1399e-06]\n",
      "  [ 9.6611e-08  6.7666e-08   4.763e-08 ...  1.2979e-06  1.1518e-06   1.232e-06]\n",
      "  [ 1.2082e-07  4.5888e-08  3.7489e-08 ...  1.4236e-06  1.2964e-06  1.3837e-06]]]\n",
      "<class 'numpy.ndarray'>\n",
      "(1, 84, 8400)\n",
      "outputs: [[[     3.4416      7.1443       7.122 ...  2.2683e-07  9.6611e-08  1.2082e-07]\n",
      "  [     20.009      4.2471      40.066 ...  1.0893e-07  6.7666e-08  4.5888e-08]\n",
      "  [     28.422      3.5682      56.654 ...  8.6857e-08   4.763e-08  3.7489e-08]\n",
      "  ...\n",
      "  [     562.86       595.4      158.04 ...  1.0468e-06  1.2979e-06  1.4236e-06]\n",
      "  [     564.78      592.19       157.5 ...  7.9207e-07  1.1518e-06  1.2964e-06]\n",
      "  [     588.44      591.94      113.82 ...  1.1399e-06   1.232e-06  1.3837e-06]]]\n",
      "<class 'numpy.ndarray'>\n",
      "(1, 8400, 84)\n"
     ]
    }
   ],
   "source": [
    "# Prepare a square image for inference\n",
    "length = max((height, width))\n",
    "image = np.zeros((length, length, 3), np.uint8)\n",
    "image[0:height, 0:width] = original_image\n",
    "\n",
    "# Calculate scale factor\n",
    "scale = length / 640\n",
    "\n",
    "# Preprocess the image and prepare blob for model\n",
    "blob = cv2.dnn.blobFromImage(image, scalefactor=1 / 255, size=(640, 640), swapRB=True)\n",
    "model.setInput(blob)\n",
    "\n",
    "# Perform inference\n",
    "outputs = model.forward()\n",
    "\n",
    "print(f'outputs: {outputs}')\n",
    "print(type(outputs))\n",
    "print(outputs.shape)\n",
    "\n",
    "\n",
    "# Prepare output array\n",
    "outputs = np.array([cv2.transpose(outputs[0])])\n",
    "print(f'outputs: {outputs}')\n",
    "print(type(outputs))\n",
    "print(outputs.shape)"
   ]
  },
  {
   "cell_type": "code",
   "execution_count": 8,
   "metadata": {},
   "outputs": [],
   "source": [
    "\n",
    "rows = outputs.shape[1]\n",
    "\n",
    "boxes = []\n",
    "scores = []\n",
    "class_ids = []\n",
    "\n",
    "# Iterate through output to collect bounding boxes, confidence scores, and class IDs\n",
    "for i in range(rows):\n",
    "    classes_scores = outputs[0][i][4:]\n",
    "    (minScore, maxScore, minClassLoc, (x, maxClassIndex)) = cv2.minMaxLoc(classes_scores)\n",
    "    if maxScore >= 0.25:\n",
    "        box = [\n",
    "            outputs[0][i][0] - (0.5 * outputs[0][i][2]),\n",
    "            outputs[0][i][1] - (0.5 * outputs[0][i][3]),\n",
    "            outputs[0][i][2],\n",
    "            outputs[0][i][3],\n",
    "        ]\n",
    "        boxes.append(box)\n",
    "        scores.append(maxScore)\n",
    "        class_ids.append(maxClassIndex)\n",
    "\n",
    "# Apply NMS (Non-maximum suppression)\n",
    "result_boxes = cv2.dnn.NMSBoxes(boxes, scores, 0.25, 0.45, 0.5)\n",
    "\n",
    "detections = []\n",
    "\n",
    "# Iterate through NMS results to draw bounding boxes and labels\n",
    "for i in range(len(result_boxes)):\n",
    "    index = result_boxes[i]\n",
    "    box = boxes[index]\n",
    "    detection = {\n",
    "        \"class_id\": class_ids[index],\n",
    "        \"class_name\": CLASSES[class_ids[index]],\n",
    "        \"confidence\": scores[index],\n",
    "        \"box\": box,\n",
    "        \"scale\": scale,\n",
    "    }\n",
    "    detections.append(detection)\n",
    "    draw_bounding_box(\n",
    "        original_image,\n",
    "        class_ids[index],\n",
    "        scores[index],\n",
    "        round(box[0] * scale),\n",
    "        round(box[1] * scale),\n",
    "        round((box[0] + box[2]) * scale),\n",
    "        round((box[1] + box[3]) * scale),\n",
    "    )\n",
    "\n",
    "# Display the image with bounding boxes\n",
    "# cv2.imshow(\"image\", original_image)\n",
    "# cv2.waitKey(0)\n",
    "# cv2.destroyAllWindows()\n"
   ]
  },
  {
   "cell_type": "code",
   "execution_count": 11,
   "metadata": {},
   "outputs": [
    {
     "data": {
      "text/plain": [
       "(46, [0.06876945495605469, 150.94861602783203, 19.131916, 41.44658])"
      ]
     },
     "execution_count": 11,
     "metadata": {},
     "output_type": "execute_result"
    }
   ],
   "source": [
    "len(boxes),boxes[0]"
   ]
  },
  {
   "cell_type": "code",
   "execution_count": 13,
   "metadata": {},
   "outputs": [
    {
     "data": {
      "text/plain": [
       "(46, 0.25669893622398376)"
      ]
     },
     "execution_count": 13,
     "metadata": {},
     "output_type": "execute_result"
    }
   ],
   "source": [
    "len(scores),scores[0]"
   ]
  },
  {
   "cell_type": "code",
   "execution_count": 14,
   "metadata": {},
   "outputs": [
    {
     "data": {
      "text/plain": [
       "(46, 11)"
      ]
     },
     "execution_count": 14,
     "metadata": {},
     "output_type": "execute_result"
    }
   ],
   "source": [
    "len(class_ids), class_ids[0]"
   ]
  },
  {
   "cell_type": "code",
   "execution_count": 17,
   "metadata": {},
   "outputs": [
    {
     "data": {
      "text/plain": [
       "(6,\n",
       " {'class_id': 5,\n",
       "  'class_name': 'bus',\n",
       "  'confidence': 0.8863571286201477,\n",
       "  'box': [14.89910888671875, 135.68052673339844, 458.65472, 314.34488],\n",
       "  'scale': 1.6875})"
      ]
     },
     "execution_count": 17,
     "metadata": {},
     "output_type": "execute_result"
    }
   ],
   "source": [
    "len(detections), detections[0]"
   ]
  }
 ],
 "metadata": {
  "kernelspec": {
   "display_name": "base",
   "language": "python",
   "name": "python3"
  },
  "language_info": {
   "codemirror_mode": {
    "name": "ipython",
    "version": 3
   },
   "file_extension": ".py",
   "mimetype": "text/x-python",
   "name": "python",
   "nbconvert_exporter": "python",
   "pygments_lexer": "ipython3",
   "version": "3.12.2"
  }
 },
 "nbformat": 4,
 "nbformat_minor": 2
}
